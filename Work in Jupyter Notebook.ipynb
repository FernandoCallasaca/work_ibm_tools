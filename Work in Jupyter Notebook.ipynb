{
 "cells": [
  {
   "cell_type": "markdown",
   "metadata": {},
   "source": [
    "# My Jupyter Notebook on IBM Watson Studio"
   ]
  },
  {
   "cell_type": "markdown",
   "metadata": {},
   "source": [
    "**Fernando Callasaca Acuña**\n",
    "\n",
    "Student at the University on Perú"
   ]
  },
  {
   "cell_type": "markdown",
   "metadata": {},
   "source": [
    "_I am interested in data science because i love understant the world using data._\n",
    "\n",
    "_With data i can find insight and i can help to companys to take better decisions_"
   ]
  },
  {
   "cell_type": "markdown",
   "metadata": {},
   "source": [
    "### I suppose, the code in the Cell 5 is a simple sume "
   ]
  },
  {
   "cell_type": "code",
   "execution_count": null,
   "metadata": {},
   "outputs": [
    {
     "data": {
      "text/plain": [
       "2"
      ]
     },
     "execution_count": 1,
     "metadata": {},
     "output_type": "execute_result"
    }
   ],
   "source": [
    "1 + 1"
   ]
  },
  {
   "cell_type": "markdown",
   "metadata": {},
   "source": [
    "### Table of List of people\n",
    "\n",
    "| Nro  | Names | Last Names | Phone Number | Gender | Best Food |\n",
    "| :------------- | :------------- | :-------------: | :-------------: | :-------------: | :-------------: |\n",
    "| `1` | Fernando  | Callasaca Acuña  | 123456789  | Male  | Chicken |\n",
    "| `2` | Fernando  | Callasaca Acuña  | 123456789  | Male  | Chicken |\n",
    "| `3` | Fernando  | Callasaca Acuña  | 123456789  | Male  | Chicken |\n",
    "| `4` | Fernando  | Callasaca Acuña  | 123456789  | Male  | Chicken |\n",
    "\n",
    "### Data Science Concepts\n",
    "\n",
    "- Data Science is a process, not an event.\n",
    "- Data Science is the process of using data to understand different things, to understand the world.\n",
    "- Data Science is when you have a model or hypothesis of a problem and you try to validate that hypothesis or model with your data.\n",
    "- Data Science is the art of uncovering the insight and trends that are hiding behind data.\n",
    "- Data Science is when you translate data into a story, so use storytelling to generate insight. And with this insight you can make strategic choices for a company or an institution.\n",
    "- Data Science is a field about processes and systems to extract data from various forms of whether it us unstructured or structured form.\n",
    "- Data Science is the study of data. Data is real, data has real properties and we need to study them if we’re going to work on them.\n",
    "- Data Science involves data and some sciences.\n",
    "\n",
    "### HTML code\n",
    "\n",
    "```html\n",
    "<!DOCTYPE html>\n",
    "<html>\n",
    "    <head>\n",
    "        <mate charest=\"utf-8\" />\n",
    "        <title>Hello world!</title>\n",
    "    </head>\n",
    "    <body>\n",
    "        <h1>Hello world!</h1>\n",
    "        <p>This is a HTML</p>\n",
    "    </body>\n",
    "</html>\n",
    "```\n",
    "\n",
    "### Image from Machupicchu, Perú, Cusco\n",
    "> Machupicchu\n",
    "\n",
    "![](https://imagenes.heraldo.es/files/article_amp/files/fp/uploads/imagenes/2020/11/02/vista-del-acto-oficial-de-reapertura-de-machu-picchu-tras-permanecer-cerrada-desde-el-16-de-marzo-por-la-pandemia.r_d.2048-2691-0.jpeg)\n"
   ]
  },
  {
   "cell_type": "code",
   "execution_count": null,
   "metadata": {},
   "outputs": [],
   "source": []
  },
  {
   "cell_type": "code",
   "execution_count": null,
   "metadata": {},
   "outputs": [],
   "source": []
  }
 ],
 "metadata": {
  "kernelspec": {
   "display_name": "Python 3",
   "language": "python",
   "name": "python3"
  },
  "language_info": {
   "codemirror_mode": {
    "name": "ipython",
    "version": 3
   },
   "file_extension": ".py",
   "mimetype": "text/x-python",
   "name": "python",
   "nbconvert_exporter": "python",
   "pygments_lexer": "ipython3",
   "version": "3.7.8"
  }
 },
 "nbformat": 4,
 "nbformat_minor": 4
}
